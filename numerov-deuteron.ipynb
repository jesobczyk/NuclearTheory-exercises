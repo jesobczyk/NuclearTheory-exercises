{
 "cells": [
  {
   "cell_type": "code",
   "execution_count": null,
   "id": "1d79ff54-b370-4816-9c1c-03cbb8755126",
   "metadata": {},
   "outputs": [],
   "source": [
    "# author: Martin Schaffer\n",
    "# adopted from TALENT2022"
   ]
  },
  {
   "cell_type": "code",
   "execution_count": 29,
   "id": "eba4261f-8b4e-4ad1-bd7f-a2c1e01048c9",
   "metadata": {},
   "outputs": [],
   "source": [
    "from scipy import constants as c\n",
    "from matplotlib import pyplot as plt\n",
    "from scipy.optimize import curve_fit\n",
    "from scipy.integrate import simps\n",
    "\n",
    "import numpy as np"
   ]
  },
  {
   "cell_type": "code",
   "execution_count": 30,
   "id": "abc58a22-6caf-4b4c-a488-3df4bcdb07b1",
   "metadata": {},
   "outputs": [],
   "source": [
    "\n",
    "#particle masses [MeV]\n",
    "m1 = c.value(\"proton mass energy equivalent in MeV\")\n",
    "m2 = c.value(\"neutron mass energy equivalent in MeV\")\n",
    "\n",
    "m_red = m1*m2/(m1+m2)\n",
    "\n",
    "#constants\n",
    "hbarc = 197.3269804\n",
    "\n",
    "#orbital momentum (here we assume l <= 3)\n",
    "l = 0\n",
    "\n",
    "#step [fm]\n",
    "h = 0.01\n",
    "\n",
    "#relative distance (boundaries) [fm] and r_grid\n",
    "rmin = 0\n",
    "rmax = 70\n",
    "\n",
    "rgrid_points = int((rmax-rmin)/h) + 1\n",
    "\n",
    "r_grid = np.linspace(rmin, rmax, num=rgrid_points, endpoint=True)\n",
    "\n",
    "# energy region Eb in <Eb_min,Eb_max> [MeV]\n",
    "Eb_min = -5.\n",
    "Eb_max = 0\n",
    "\n"
   ]
  },
  {
   "cell_type": "code",
   "execution_count": 31,
   "id": "41984b1f-17b8-470d-89ce-623347c7a7f1",
   "metadata": {},
   "outputs": [],
   "source": [
    "#============================================ POTENTIALS ================================================\n",
    "def pot_Volkov(r) :\n",
    "    return(144.86*np.exp(-r*r/0.82**2) - 83.34*np.exp(-r*r/1.6**2))\n",
    "  \n",
    "def pot_MTV(r) :\n",
    "    return(1458.05*np.exp(-r*3.11)/r - 578.09*np.exp(-1.55*r)/r)\n",
    "  \n",
    "def pot_ATS3(r) :\n",
    "    return (1000.0*np.exp(-r*r*3.0) - 326.7*np.exp(-r*r*1.05) - 43.0*np.exp(-r*r*0.6) )\n",
    "  \n",
    "def pot_Minnesota(r) :\n",
    "    return(  200.*np.exp(-1.487*r**2) - 178.*np.exp(-0.639*r**2)  )\n",
    "\n"
   ]
  },
  {
   "cell_type": "code",
   "execution_count": 32,
   "id": "d3a8b1ff-bfdd-41c9-b2f8-16986b882541",
   "metadata": {},
   "outputs": [
    {
     "data": {
      "text/plain": [
       "<matplotlib.legend.Legend at 0x7fd1c1057850>"
      ]
     },
     "execution_count": 32,
     "metadata": {},
     "output_type": "execute_result"
    },
    {
     "data": {
      "image/png": "[encoded data removed]",
      "text/plain": [
       "<Figure size 432x288 with 1 Axes>"
      ]
     },
     "metadata": {
      "needs_background": "light"
     },
     "output_type": "display_data"
    }
   ],
   "source": [
    "r = np.linspace(0,6, 1000)\n",
    "\n",
    "plt.ylim(-100,70)\n",
    "plt.plot(r, pot_Volkov(r), color='red', label='Volkov')\n",
    "### COMPLETE other potentials\n",
    "\n",
    "plt.legend()\n"
   ]
  },
  {
   "cell_type": "code",
   "execution_count": 10,
   "id": "b8d7183a-c2be-4dbf-acca-347c629cbd4e",
   "metadata": {},
   "outputs": [],
   "source": [
    "def normalization(u) :\n",
    "    \n",
    "    norm = simps(np.abs(u)**2, r_grid)\n",
    "    u_norm = u/np.sqrt(norm)\n",
    "    \n",
    "    return u_norm\n"
   ]
  },
  {
   "cell_type": "code",
   "execution_count": 24,
   "id": "b4e40deb-4a18-491a-8939-ca6925b424f1",
   "metadata": {},
   "outputs": [],
   "source": [
    "def RMS(u):\n",
    "    ### COMPLETE\n",
    "    \n",
    "    #sqrt( \\int |u(r)|^2 r^2 dr  )\n",
    "    "
   ]
  },
  {
   "cell_type": "code",
   "execution_count": 11,
   "id": "0949415f-b10c-4973-b7d9-8f84680a29a2",
   "metadata": {},
   "outputs": [],
   "source": [
    "def numerov_wf(E, potential) :\n",
    "\n",
    "    k = np.zeros(len(r_grid))\n",
    "    u = np.zeros(len(r_grid))\n",
    "    \n",
    "    C = 2.*m_red/hbarc**2\n",
    "    \n",
    "    ### COMPLETE\n",
    "    \n",
    "    #initial conditions [for r->0; u(r)=r^(l+1)]  \n",
    "    \n",
    "    \n",
    "    #initializing k[r] = 2\\mu/hbarc^2 (E - V[r] - hbarc^2 * l*(l+1)/(2.*\\mu * r^2))\n",
    "    \n",
    "    \n",
    "    # recursive relation for forward Numerov algorithm\n",
    "\n",
    "\n",
    "    u_norm = normalization(u)\n",
    "    \n",
    "    return(u_norm)"
   ]
  },
  {
   "cell_type": "code",
   "execution_count": 12,
   "id": "183b609b-29c6-43ec-a1b7-deb89c9d250c",
   "metadata": {},
   "outputs": [],
   "source": [
    "def bound_states(potential) :\n",
    "    \n",
    "    print(\"Bound state calculation : \\n\")\n",
    "    \n",
    "    energy_grid_points = 10\n",
    "\n",
    "    #numerical accuracy of bound state energy solution\n",
    "    eps = 1.e-8\n",
    "    \n",
    "    #maximal number of iterations\n",
    "    itr_max = 100\n",
    "\n",
    "    itr=0\n",
    "    Eb_prev = Eb_min\n",
    "    Eb_curr = Eb_max\n",
    "    \n",
    "    while itr<itr_max and np.abs(Eb_prev-Eb_curr)>eps:\n",
    "        itr+=1\n",
    "        Eb_grid = np.linspace(Eb_prev, Eb_curr, num=energy_grid_points, endpoint=True)\n",
    "        \n",
    "        for i in range(0,len(Eb_grid)):\n",
    "            u = numerov_wf(Eb_grid[i], potential)\n",
    "            if i>0 and u_prev*u[-1] < 0:\n",
    "                Eb_curr=Eb_grid[i]\n",
    "            \n",
    "                line = str(itr) + \". \\t E \\t = \\t\"+ \"{0:.6f}\".format(Eb_curr) + \"\\t \\t u(rmax) \\t = \\t \" + \"{0:.6f}\".format(u[-1])\n",
    "                print(line)\n",
    "                break\n",
    "            \n",
    "            else:\n",
    "                u_prev = u[len(u)-1]\n",
    "                Eb_prev = Eb_grid[i]\n",
    "    print(\"=========================================================================\")     \n",
    "    return Eb_curr, u"
   ]
  },
  {
   "cell_type": "code",
   "execution_count": null,
   "id": "7f7f34d8-8870-4821-8862-dac565ba1b4b",
   "metadata": {},
   "outputs": [],
   "source": [
    "E_bound, u = bound_states(pot_MTV)\n",
    "\n",
    "rms = RMS(u)\n",
    "print('Radius', rms)\n",
    "\n",
    "plt.plot(r_grid, u)\n"
   ]
  }
 ],
 "metadata": {
  "kernelspec": {
   "display_name": "Python 3 (ipykernel)",
   "language": "python",
   "name": "python3"
  },
  "language_info": {
   "codemirror_mode": {
    "name": "ipython",
    "version": 3
   },
   "file_extension": ".py",
   "mimetype": "text/x-python",
   "name": "python",
   "nbconvert_exporter": "python",
   "pygments_lexer": "ipython3",
   "version": "3.11.5"
  }
 },
 "nbformat": 4,
 "nbformat_minor": 5
}
